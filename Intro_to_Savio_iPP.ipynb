{
 "cells": [
  {
   "cell_type": "markdown",
   "metadata": {},
   "source": [
    "Import packages and set up a cluster"
   ]
  },
  {
   "cell_type": "code",
   "execution_count": 1,
   "metadata": {},
   "outputs": [
    {
     "name": "stdout",
     "output_type": "stream",
     "text": [
      "Using existing profile dir: '/global/home/users/cth/.ipython/profile_default'\n",
      "Starting 4 engines with <class 'ipyparallel.cluster.launcher.LocalEngineSetLauncher'>\n"
     ]
    },
    {
     "data": {
      "application/vnd.jupyter.widget-view+json": {
       "model_id": "585f45c6ca9243fd9a486f250d4d1eb0",
       "version_major": 2,
       "version_minor": 0
      },
      "text/plain": [
       "HBox(children=(IntProgress(value=0, max=4), HTML(value='')))"
      ]
     },
     "metadata": {},
     "output_type": "display_data"
    },
    {
     "name": "stdout",
     "output_type": "stream",
     "text": [
      "\n"
     ]
    }
   ],
   "source": [
    "import os\n",
    "\n",
    "# Import the package\n",
    "import ipyparallel as ipp\n",
    "\n",
    "# Get number of cores (for one node)\n",
    "cpu_count = int(os.getenv('SLURM_CPUS_ON_NODE'))\n",
    "\n",
    "# Create a remote cluster\n",
    "rc = ipp.Cluster(n=cpu_count).start_and_connect_sync()\n",
    "rc.wait_for_engines(n=cpu_count)"
   ]
  },
  {
   "cell_type": "markdown",
   "metadata": {},
   "source": [
    "First create a direct view, which lets you run tasks symmetrically across engines"
   ]
  },
  {
   "cell_type": "code",
   "execution_count": 2,
   "metadata": {},
   "outputs": [],
   "source": [
    "dview = rc[:]"
   ]
  },
  {
   "cell_type": "markdown",
   "metadata": {},
   "source": [
    "There are two ways to import packages on the engines"
   ]
  },
  {
   "cell_type": "code",
   "execution_count": 3,
   "metadata": {},
   "outputs": [
    {
     "name": "stdout",
     "output_type": "stream",
     "text": [
      "importing numpy on engine(s)\n"
     ]
    }
   ],
   "source": [
    "# Import via execute\n",
    "dview.execute('import numpy as np')\n",
    "\n",
    "# Import via sync_imports\n",
    "with dview.sync_imports():\n",
    "    import numpy as np"
   ]
  },
  {
   "cell_type": "markdown",
   "metadata": {},
   "source": [
    "The push command lets you send data to each engine"
   ]
  },
  {
   "cell_type": "code",
   "execution_count": 4,
   "metadata": {},
   "outputs": [],
   "source": [
    "# Send data to each engine\n",
    "dview.push(dict(a=1.03234, b=3453))\n",
    "for i in range(cpu_count):\n",
    "  rc[i].push({'id': rc.ids[i]})"
   ]
  },
  {
   "cell_type": "markdown",
   "metadata": {},
   "source": [
    "Some commands will return an asynchronous object"
   ]
  },
  {
   "cell_type": "code",
   "execution_count": 5,
   "metadata": {},
   "outputs": [
    {
     "name": "stdout",
     "output_type": "stream",
     "text": [
      "<AsyncResult: <lambda>>\n"
     ]
    },
    {
     "data": {
      "text/plain": [
       "[27, 28, 29, 30]"
      ]
     },
     "execution_count": 5,
     "metadata": {},
     "output_type": "execute_result"
    }
   ],
   "source": [
    "# Apply and then get\n",
    "ar = dview.apply(lambda x: id+x, 27)\n",
    "print(ar)\n",
    "# Get the result\n",
    "ar.get()"
   ]
  },
  {
   "cell_type": "markdown",
   "metadata": {},
   "source": [
    "There are other ways to make sure your code finishes running before moving on"
   ]
  },
  {
   "cell_type": "code",
   "execution_count": 6,
   "metadata": {},
   "outputs": [
    {
     "data": {
      "text/plain": [
       "[27, 28, 29, 30]"
      ]
     },
     "execution_count": 6,
     "metadata": {},
     "output_type": "execute_result"
    }
   ],
   "source": [
    "# Can use apply sync\n",
    "dview.apply_sync(lambda x: id+x+np.random.rand(2), 27)\n",
    "\n",
    "# Or use blocking for all operations\n",
    "dview.block=True\n",
    "dview.apply(lambda x: id+x, 27)"
   ]
  },
  {
   "cell_type": "markdown",
   "metadata": {},
   "source": [
    "A load balance view assigns tasks to keep all of the processors busy"
   ]
  },
  {
   "cell_type": "code",
   "execution_count": 7,
   "metadata": {},
   "outputs": [],
   "source": [
    "# Create a balanced load view\n",
    "lview = rc.load_balanced_view()\n",
    "\n",
    "# Cause execution on main process to wait while tasks sent to workers finish\n",
    "lview.block = True"
   ]
  },
  {
   "cell_type": "markdown",
   "metadata": {},
   "source": [
    "We will calculate pi by monte carlo, let's define a function that checks if two points are in the unit circle"
   ]
  },
  {
   "cell_type": "code",
   "execution_count": 8,
   "metadata": {},
   "outputs": [],
   "source": [
    "def uc_check(input):\n",
    "  if input[0] ** 2 + input[1] ** 2 < 1:\n",
    "    return 1\n",
    "  else:\n",
    "    return 0"
   ]
  },
  {
   "cell_type": "markdown",
   "metadata": {},
   "source": [
    "We now generate many random points in the unit square, we ask the load balanced view to split these random numbers across engines"
   ]
  },
  {
   "cell_type": "code",
   "execution_count": 11,
   "metadata": {},
   "outputs": [
    {
     "name": "stdout",
     "output_type": "stream",
     "text": [
      "CPU times: user 5.66 s, sys: 292 ms, total: 5.96 s\n",
      "Wall time: 7.06 s\n",
      "3.136\n"
     ]
    }
   ],
   "source": [
    "# Generate randoms numbers\n",
    "rn = np.random.rand(int(1e4)).reshape(-1,2)\n",
    "# Execute map\n",
    "%time pi4 = lview.map(uc_check, rn)   # Run calculation in parallel\n",
    "# Estimate pi\n",
    "print(np.mean(pi4) * 4)"
   ]
  },
  {
   "cell_type": "markdown",
   "metadata": {},
   "source": [
    "Parallel programming isn't always more efficient"
   ]
  },
  {
   "cell_type": "code",
   "execution_count": 15,
   "metadata": {},
   "outputs": [
    {
     "name": "stdout",
     "output_type": "stream",
     "text": [
      "CPU times: user 0 ns, sys: 872 µs, total: 872 µs\n",
      "Wall time: 630 µs\n"
     ]
    },
    {
     "data": {
      "text/plain": [
       "3.136"
      ]
     },
     "execution_count": 15,
     "metadata": {},
     "output_type": "execute_result"
    }
   ],
   "source": [
    "%time np.array(rn.T[0,:] ** 2 +  rn.T[1,:] ** 2 < 1).mean()*4"
   ]
  }
 ],
 "metadata": {
  "kernelspec": {
   "display_name": "Python 3.7",
   "language": "python",
   "name": "python3"
  },
  "language_info": {
   "codemirror_mode": {
    "name": "ipython",
    "version": 3
   },
   "file_extension": ".py",
   "mimetype": "text/x-python",
   "name": "python",
   "nbconvert_exporter": "python",
   "pygments_lexer": "ipython3",
   "version": "3.7.4"
  }
 },
 "nbformat": 4,
 "nbformat_minor": 2
}
